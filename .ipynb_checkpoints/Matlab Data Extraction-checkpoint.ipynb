{
 "cells": [
  {
   "cell_type": "code",
   "execution_count": 1,
   "id": "393b6e6b",
   "metadata": {},
   "outputs": [],
   "source": [
    "from scipy.io import loadmat\n",
    "import pandas as pd"
   ]
  },
  {
   "cell_type": "code",
   "execution_count": 2,
   "id": "e8a1429d",
   "metadata": {},
   "outputs": [],
   "source": [
    "mat = loadmat('BHM_time_cell.mat', squeeze_me=True)"
   ]
  },
  {
   "cell_type": "code",
   "execution_count": 3,
   "id": "67d99cb9",
   "metadata": {},
   "outputs": [
    {
     "data": {
      "text/plain": [
       "{'__header__': b'MATLAB 5.0 MAT-file, Platform: PCWIN64, Created on: Thu Jun  9 12:03:21 2022',\n",
       " '__version__': '1.0',\n",
       " '__globals__': [],\n",
       " 'BHM_time_cell': array(['07-May-2020 01:05:00', '07-May-2020 01:10:00',\n",
       "        '07-May-2020 01:15:00', ..., '07-May-2022 00:55:00',\n",
       "        '07-May-2022 00:56:00', '07-May-2022 01:00:00'], dtype=object)}"
      ]
     },
     "execution_count": 3,
     "metadata": {},
     "output_type": "execute_result"
    }
   ],
   "source": [
    "mat"
   ]
  },
  {
   "cell_type": "code",
   "execution_count": 4,
   "id": "503721bb",
   "metadata": {},
   "outputs": [],
   "source": [
    "header_list = ['datetime']"
   ]
  },
  {
   "cell_type": "code",
   "execution_count": 5,
   "id": "d648c7ec",
   "metadata": {},
   "outputs": [],
   "source": [
    "df = pd.DataFrame(mat['BHM_time_cell'], columns=header_list)"
   ]
  },
  {
   "cell_type": "code",
   "execution_count": 6,
   "id": "87dd16c3",
   "metadata": {},
   "outputs": [
    {
     "data": {
      "text/html": [
       "<div>\n",
       "<style scoped>\n",
       "    .dataframe tbody tr th:only-of-type {\n",
       "        vertical-align: middle;\n",
       "    }\n",
       "\n",
       "    .dataframe tbody tr th {\n",
       "        vertical-align: top;\n",
       "    }\n",
       "\n",
       "    .dataframe thead th {\n",
       "        text-align: right;\n",
       "    }\n",
       "</style>\n",
       "<table border=\"1\" class=\"dataframe\">\n",
       "  <thead>\n",
       "    <tr style=\"text-align: right;\">\n",
       "      <th></th>\n",
       "      <th>datetime</th>\n",
       "    </tr>\n",
       "  </thead>\n",
       "  <tbody>\n",
       "    <tr>\n",
       "      <th>0</th>\n",
       "      <td>07-May-2020 01:05:00</td>\n",
       "    </tr>\n",
       "    <tr>\n",
       "      <th>1</th>\n",
       "      <td>07-May-2020 01:10:00</td>\n",
       "    </tr>\n",
       "    <tr>\n",
       "      <th>2</th>\n",
       "      <td>07-May-2020 01:15:00</td>\n",
       "    </tr>\n",
       "    <tr>\n",
       "      <th>3</th>\n",
       "      <td>07-May-2020 01:20:00</td>\n",
       "    </tr>\n",
       "    <tr>\n",
       "      <th>4</th>\n",
       "      <td>07-May-2020 01:25:00</td>\n",
       "    </tr>\n",
       "    <tr>\n",
       "      <th>...</th>\n",
       "      <td>...</td>\n",
       "    </tr>\n",
       "    <tr>\n",
       "      <th>204298</th>\n",
       "      <td>07-May-2022 00:45:00</td>\n",
       "    </tr>\n",
       "    <tr>\n",
       "      <th>204299</th>\n",
       "      <td>07-May-2022 00:50:00</td>\n",
       "    </tr>\n",
       "    <tr>\n",
       "      <th>204300</th>\n",
       "      <td>07-May-2022 00:55:00</td>\n",
       "    </tr>\n",
       "    <tr>\n",
       "      <th>204301</th>\n",
       "      <td>07-May-2022 00:56:00</td>\n",
       "    </tr>\n",
       "    <tr>\n",
       "      <th>204302</th>\n",
       "      <td>07-May-2022 01:00:00</td>\n",
       "    </tr>\n",
       "  </tbody>\n",
       "</table>\n",
       "<p>204303 rows × 1 columns</p>\n",
       "</div>"
      ],
      "text/plain": [
       "                    datetime\n",
       "0       07-May-2020 01:05:00\n",
       "1       07-May-2020 01:10:00\n",
       "2       07-May-2020 01:15:00\n",
       "3       07-May-2020 01:20:00\n",
       "4       07-May-2020 01:25:00\n",
       "...                      ...\n",
       "204298  07-May-2022 00:45:00\n",
       "204299  07-May-2022 00:50:00\n",
       "204300  07-May-2022 00:55:00\n",
       "204301  07-May-2022 00:56:00\n",
       "204302  07-May-2022 01:00:00\n",
       "\n",
       "[204303 rows x 1 columns]"
      ]
     },
     "execution_count": 6,
     "metadata": {},
     "output_type": "execute_result"
    }
   ],
   "source": [
    "df"
   ]
  },
  {
   "cell_type": "code",
   "execution_count": 7,
   "id": "a0029308",
   "metadata": {},
   "outputs": [
    {
     "name": "stdout",
     "output_type": "stream",
     "text": [
      "               datetime\n",
      "0  07-May-2020 01:05:00\n",
      "1  07-May-2020 01:10:00\n",
      "2  07-May-2020 01:15:00\n",
      "3  07-May-2020 01:20:00\n",
      "4  07-May-2020 01:25:00\n"
     ]
    }
   ],
   "source": [
    "print(df.head())"
   ]
  }
 ],
 "metadata": {
  "kernelspec": {
   "display_name": "Python 3 (ipykernel)",
   "language": "python",
   "name": "python3"
  },
  "language_info": {
   "codemirror_mode": {
    "name": "ipython",
    "version": 3
   },
   "file_extension": ".py",
   "mimetype": "text/x-python",
   "name": "python",
   "nbconvert_exporter": "python",
   "pygments_lexer": "ipython3",
   "version": "3.10.4"
  }
 },
 "nbformat": 4,
 "nbformat_minor": 5
}
